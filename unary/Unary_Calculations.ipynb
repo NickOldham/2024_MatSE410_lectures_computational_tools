{
 "cells": [
  {
   "cell_type": "markdown",
   "metadata": {},
   "source": [
    "# MatSE 410 unary pycalphad examples\n",
    "\n",
    "\n",
    "\n",
    "\n",
    "**pycalphad** is a free and open source software written in Python for performing thermodynamic calculations within the CALculation of PHAse Diagrams (CALPHAD) method.\n",
    "\n",
    "\n",
    "This guide was contributed to by\n",
    "\n",
    "- Shuang Lin (2024)\n",
    "- Brandon Bocklund (2019, 2020)\n",
    "- Matthew Feurer (2019)\n",
    "\n",
    "\n",
    "\n",
    "## Introduction to pycalphad\n",
    "\n",
    "This tutorial is being run from the Jupyter Lab program in the browser. You can run Jupyter Lab by running `jupyter lab` in the Anaconda Prompt.\n",
    "\n",
    "In Python you need to import the tools that we use to preform our code. They act as additions to the basic Python language. In general you can copy them as you see here without any modification. At the begining of any new session you must run these import statements to get all the tools we need. if the command below exicutes without any errors, your installation of pycalphad is succesfull.\n",
    "\n",
    "\n",
    "### Databases\n",
    "\n",
    "Any calculation in pycalphad requires you to define:\n",
    "\n",
    "* A Database\n",
    "* The components to consider\n",
    "* The phases to consider\n",
    "* The conditions of the calculation\n",
    "\n",
    "CALPHAD database files are made by researchers who model the Gibbs energy functions. The parameters (Gibbs energy functions) in the databases are stored in the Thermo-Calc DataBase (TDB) format. Files are usually saved with the file extension `.tdb`. These files are read by pycalphad by importing the `Database` class and running the following\n",
    "\n",
    "```python\n",
    "from pycalphad import Database\n",
    "db = Database(\"path/to/database.tdb\")\n",
    "```\n",
    "\n",
    "Many database files have been indexed at the [TDBDB](https://avdwgroup.engin.brown.edu), which can be used to search for TDB files. Many binary and ternary systems have been evaluated, some more than once as new data or calculations are published.\n",
    "\n",
    "Some databases are included here (`Zn-ssub5.tdb`) and (`sgte-unary.tdb`), which contain parameters for Zn solid/liquid/gas and parameters for many pure elements in the liquid and various solid phases (e.g. fcc, bcc, hcp; even if that phase is not stable), respectively.\n"
   ]
  },
  {
   "cell_type": "markdown",
   "metadata": {},
   "source": [
    "## One component systems\n",
    "\n",
    "Here we first import some functions that will be used in these examples, then load the SGTE unary TDB and calculate some properties of Al vs. temperature."
   ]
  },
  {
   "cell_type": "code",
   "execution_count": 1,
   "metadata": {},
   "outputs": [],
   "source": [
    "import matplotlib.pyplot as plt\n",
    "import numpy as np\n",
    "from pycalphad import Database, calculate, equilibrium, variables as v\n",
    "from PT import PT_phase_diagram"
   ]
  },
  {
   "cell_type": "code",
   "execution_count": 2,
   "metadata": {},
   "outputs": [
    {
     "name": "stderr",
     "output_type": "stream",
     "text": [
      "/Library/Frameworks/Python.framework/Versions/3.9/lib/python3.9/site-packages/pycalphad/io/tdb.py:974: UserWarning: The type definition character `I` was defined in the following phases: ['CBCC_A12', 'BCC_A2', 'FCC_A1', 'HCP_A3'], but no corresponding TYPE_DEFINITION line was found in the TDB.\n",
      "  warnings.warn(f\"The type definition character `{typechar}` was defined in the following phases: \"\n"
     ]
    }
   ],
   "source": [
    "# Load the database\n",
    "db_sgte = Database('sgte-unary.tdb')"
   ]
  },
  {
   "cell_type": "markdown",
   "metadata": {},
   "source": [
    "The SGTE database has many elements and phases, which can be listed.\n",
    "\n",
    "#### Elements\n",
    "\n",
    "Note there are two special \"elements\": `/-` and `VA`. `/-` is used in databases to represent a unit of negative charge, while `VA` is a dummy species that means vacancy.\n",
    "\n",
    "**Note that many databases require `VA` are included in the sublattice models, so you should get in the habit of included them in the lists of components manually**"
   ]
  },
  {
   "cell_type": "code",
   "execution_count": 3,
   "metadata": {},
   "outputs": [
    {
     "name": "stdout",
     "output_type": "stream",
     "text": [
      "['/-', 'AG', 'AL', 'AM', 'AS', 'AU', 'B', 'BA', 'BE', 'BI', 'C', 'CA', 'CD', 'CE', 'CO', 'CR', 'CS', 'CU', 'DY', 'ER', 'EU', 'FE', 'GA', 'GD', 'GE', 'HF', 'HG', 'HO', 'IN', 'IR', 'K', 'LA', 'LI', 'LU', 'MG', 'MN', 'MO', 'N', 'NA', 'NB', 'ND', 'NI', 'NP', 'O', 'OS', 'P', 'PA', 'PB', 'PD', 'PR', 'PT', 'PU', 'RB', 'RE', 'RH', 'RU', 'S', 'SB', 'SC', 'SE', 'SI', 'SM', 'SN', 'SR', 'TA', 'TB', 'TC', 'TE', 'TH', 'TI', 'TL', 'TM', 'U', 'V', 'VA', 'W', 'Y', 'YB', 'ZN', 'ZR']\n"
     ]
    }
   ],
   "source": [
    "print(sorted(db_sgte.elements))"
   ]
  },
  {
   "cell_type": "markdown",
   "metadata": {},
   "source": [
    "#### Phases\n",
    "\n",
    "Many of the phases you know have some symbols after the underscore in the phase name, for example `FCC_A1` has `A1`. These are called *Strukturbericht* symbols. The letter sometimes has meaning (e.g. `A` for pure elements), but the number has almost no meaning and usually the numbers roughly correspond to the order in which they were discovered/named.\n",
    "\n",
    "For CALPHAD calculations, it's just a convention.\n",
    "\n",
    "A list of many phases and Strukturbericht symbols can be found [here](https://homepage.univie.ac.at/michael.leitner/lattice/struk/index.html)."
   ]
  },
  {
   "cell_type": "code",
   "execution_count": 4,
   "metadata": {},
   "outputs": [
    {
     "name": "stdout",
     "output_type": "stream",
     "text": [
      "['ALPHA_PU', 'ALPHA_RHOMBO_B', 'BCC_A2', 'BCT_A5', 'BCT_AA', 'BETA_PU', 'BETA_RHOMBO_B', 'CBCC_A12', 'CUB_A13', 'DHCP', 'DIAMOND_A4', 'FCC_A1', 'GAMMA_PU', 'GAS', 'GRAPHITE', 'HCP_A3', 'HCP_ZN', 'HEXAGONAL_A8', 'LIQUID', 'MONOCLINIC', 'OMEGA', 'ORTHORHOMBIC_A20', 'ORTHORHOMBIC_GA', 'ORTHORHOMBIC_S', 'ORTHO_AC', 'RED_P', 'RHOMBOHEDRAL_A7', 'RHOMBO_A10', 'RHOMB_C19', 'TETRAGONAL_A6', 'TETRAGONAL_U', 'TETRAG_AD', 'TET_ALPHA1', 'WHITE_P']\n"
     ]
    }
   ],
   "source": [
    "print(sorted(db_sgte.phases))"
   ]
  },
  {
   "cell_type": "markdown",
   "metadata": {},
   "source": [
    "### `calculate()` and `equilibrium()`\n",
    "\n",
    "The main two functions for computing things with pycalphad are `calculate()` and `equilibrium()`. There is a subtle difference between these that may not be very clear initially.\n",
    "\n",
    "* `calculate()` computes a property of a phase for given natural variables for Gibbs energy ($P$, $T$, and $N$)\n",
    "* `equilibrium()` finds the phases and phase fractions that give the global minimum Gibbs energy constrained under conditions of $P$, $T$, and $x_i$. It uses pycalphad to numerically sample the Gibbs energies of phases that could form under the given conditions.\n",
    "\n",
    "Whenever we want to see a property of a phase, regardless of whether or not it's stable, we use `calculate()`.\n",
    "\n",
    "Whenever we want to know the experimental/equilibrium properties, i.e. which phases are stable, we use `equilibrium()`.\n",
    "\n",
    "The inputs of each are slightly different, in that `calculate()` takes state variables as keyword arguments, while `equilibrium()` takes the conditions as a dictionary. If you don't know what this means, the examples will help clarify.\n",
    "\n",
    "### State variables\n",
    "\n",
    "In any thermodynamic calculation, $c+2$ conditions must be defined for $c$ independent components. Note that `VA` is not an independent component.\n",
    "\n",
    "The different state variables are accessed by prepending `v.<StateVariable>`:\n",
    "\n",
    "- **Pressure:** `v.P` in Pascal. Standard pressure is 101325 Pa.\n",
    "- **Moles:** `v.N` only use `N=1`.\n",
    "- **Temperature:** `v.T` in Kelvin. Most databases are only defined between 298.15 K and 6000 K, so you should keep calculations in this range.\n",
    "- **Composition:** `v.X('NI')` as a mole fraction (for Ni).\n",
    "\n",
    "\n",
    "### Gibbs energy of Al\n",
    "\n",
    "First, calculate the Gibbs energy of Al for all phases over all temperatures. Since we want to see the energies for phases even if they are not stable, we'll use `calculate()`. \n",
    "\n",
    "Ranges of state variables can be defined using a `(start, stop, step)` format, e.g. `T=(300, 1500, 10)` goes from 300 K to 1500 K by intervals of 10 K.\n",
    "\n",
    "**Remember to include `VA` as a component, since it is used by the FCC_A1 phase.**"
   ]
  },
  {
   "cell_type": "code",
   "execution_count": 5,
   "metadata": {},
   "outputs": [
    {
     "data": {
      "text/plain": [
       "<matplotlib.legend.Legend at 0x7fbe73f5d0a0>"
      ]
     },
     "execution_count": 5,
     "metadata": {},
     "output_type": "execute_result"
    },
    {
     "data": {
      "image/png": "[encoded data removed]",
      "text/plain": [
       "<Figure size 432x288 with 1 Axes>"
      ]
     },
     "metadata": {
      "needs_background": "light"
     },
     "output_type": "display_data"
    }
   ],
   "source": [
    "fcc_GM = calculate(db_sgte, ['AL', 'VA'], 'FCC_A1', P=101325, T=(300, 1500, 10), N=1)\n",
    "liquid_GM = calculate(db_sgte, ['AL', 'VA'], 'LIQUID', P=101325, T=(300, 1500, 10), N=1)\n",
    "\n",
    "# Squeeze is required because the array corresponding to GM is multidimensional for each T, P, and N where we've calculated the energy\n",
    "plt.plot(fcc_GM.T, fcc_GM.GM.squeeze(), label='FCC_A1')\n",
    "plt.plot(liquid_GM.T, liquid_GM.GM.squeeze(), label='LIQUID')\n",
    "plt.xlabel(\"Temperature [K]\")\n",
    "plt.ylabel(\"GM [J/mol-atom]\")\n",
    "plt.legend()\n"
   ]
  },
  {
   "cell_type": "markdown",
   "metadata": {},
   "source": [
    "### Equilibrium enthalpy of Zn\n",
    "\n",
    "Now we want to see the enthalpy change as a function of temperature, and see that the enthalpy is discontinuous at the two phase equilibrium transformation temperature, according to Gibbs phase rule.\n",
    "\n",
    "To be able to see the enthalpy, we have to provide an `output` argument to equilibrium to ask for the `HM` (molar enthalpy). The list of quantities you can ask for are:\n",
    "\n",
    "```\n",
    "Molar enthalpy (HM)       'HM'\n",
    "Mixing enthalpy           'HM_MIX'\n",
    "Molar Gibbs energy        'GM'\n",
    "Gibbs energy of mixing    'GM_MIX'\n",
    "Molar Entropy             'SM'\n",
    "Molar Heat capacity       'CPM'\n",
    "```\n",
    "\n",
    "For now, only consider the solid and liquid phases.\n",
    "    "
   ]
  },
  {
   "cell_type": "code",
   "execution_count": 6,
   "metadata": {},
   "outputs": [
    {
     "name": "stderr",
     "output_type": "stream",
     "text": [
      "/Library/Frameworks/Python.framework/Versions/3.9/lib/python3.9/site-packages/pycalphad/io/tdb.py:974: UserWarning: The type definition character `%` was defined in the following phases: ['GAS', 'SOLID', 'LIQUID'], but no corresponding TYPE_DEFINITION line was found in the TDB.\n",
      "  warnings.warn(f\"The type definition character `{typechar}` was defined in the following phases: \"\n"
     ]
    }
   ],
   "source": [
    "db_zn = Database('Zn-ssub5.tdb')"
   ]
  },
  {
   "cell_type": "code",
   "execution_count": 7,
   "metadata": {},
   "outputs": [
    {
     "name": "stdout",
     "output_type": "stream",
     "text": [
      "['GAS', 'LIQUID', 'SOLID']\n"
     ]
    }
   ],
   "source": [
    "print(sorted(db_zn.phases))"
   ]
  },
  {
   "cell_type": "code",
   "execution_count": 8,
   "metadata": {},
   "outputs": [
    {
     "data": {
      "text/plain": [
       "Text(0, 0.5, 'HM [J/mol-atom]')"
      ]
     },
     "execution_count": 8,
     "metadata": {},
     "output_type": "execute_result"
    },
    {
     "data": {
      "image/png": "[encoded data removed]",
      "text/plain": [
       "<Figure size 432x288 with 1 Axes>"
      ]
     },
     "metadata": {
      "needs_background": "light"
     },
     "output_type": "display_data"
    }
   ],
   "source": [
    "conditions = {  # mapping of state variable to values\n",
    "    v.N: 1,\n",
    "    v.P: 101325,\n",
    "    # for now, only temperature has a range. If multiple variables have ranges, all combinations are calculated\n",
    "    v.T: (300, 1200, 10),\n",
    "}\n",
    "equil_result = equilibrium(db_zn, ['ZN'], ['SOLID', 'LIQUID'], conditions, output='HM')\n",
    "\n",
    "# Squeeze is required because the array corresponding to HM is multidimensional for each T, P, and N where we've calculated the energy\n",
    "plt.plot(equil_result.T, equil_result.HM.squeeze())\n",
    "plt.xlabel(\"Temperature [K]\")\n",
    "plt.ylabel(\"HM [J/mol-atom]\")"
   ]
  },
  {
   "cell_type": "markdown",
   "metadata": {},
   "source": [
    "## Pressure Temperature phase diagram\n",
    "\n",
    "The `PT_phase_diagram` function is written for you to use `calculate()` to determine the PT diagram. here's one for ZN:"
   ]
  },
  {
   "cell_type": "code",
   "execution_count": 9,
   "metadata": {},
   "outputs": [
    {
     "data": {
      "image/png": "[encoded data removed]",
      "text/plain": [
       "<Figure size 432x288 with 1 Axes>"
      ]
     },
     "metadata": {
      "needs_background": "light"
     },
     "output_type": "display_data"
    }
   ],
   "source": [
    "PT_phase_diagram(db_zn, ['ZN'], ['GAS', 'SOLID', 'LIQUID'], {v.N: 1, v.P: (1e5, 1e7, 1e5), v.T: (400, 2200, 1)})"
   ]
  }
 ],
 "metadata": {
  "kernelspec": {
   "display_name": "Python 3",
   "language": "python",
   "name": "python3"
  },
  "language_info": {
   "codemirror_mode": {
    "name": "ipython",
    "version": 3
   },
   "file_extension": ".py",
   "mimetype": "text/x-python",
   "name": "python",
   "nbconvert_exporter": "python",
   "pygments_lexer": "ipython3",
   "version": "3.9.7"
  }
 },
 "nbformat": 4,
 "nbformat_minor": 4
}
